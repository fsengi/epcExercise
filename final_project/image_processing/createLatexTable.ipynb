{
 "cells": [
  {
   "cell_type": "code",
   "execution_count": 2,
   "metadata": {},
   "outputs": [],
   "source": [
    "import json"
   ]
  },
  {
   "cell_type": "code",
   "execution_count": 23,
   "metadata": {},
   "outputs": [
    {
     "name": "stdout",
     "output_type": "stream",
     "text": [
      "exact Semi Parallel Bit 0 Energy/pixel (nJ): 328.47 Total Energy (mJ): 21.53 Steps/pixel: 2883.25 Total steps (million): 188.96\n",
      "Adder Bit 1 Energy/pixel (nJ): 300.11 Total Energy (mJ): 19.67 Steps/pixel: 2633.32 Total steps (million): 172.58\n",
      "Adder Bit 4 Energy/pixel (nJ): 219.37 Total Energy (mJ): 14.38 Steps/pixel: 1903.77 Total steps (million): 124.77\n",
      "exact Semi Parallel Bit 0 Energy/pixel (nJ): 231.36 Total Energy (mJ): 15.16 Steps/pixel: 2008.32 Total steps (million): 131.62\n",
      "Adder Bit 1 Energy/pixel (nJ): 213.41 Total Energy (mJ): 13.99 Steps/pixel: 1851.22 Total steps (million): 121.32\n",
      "Adder Bit 4 Energy/pixel (nJ): 160.73 Total Energy (mJ): 10.53 Steps/pixel: 1374.99 Total steps (million): 90.11\n"
     ]
    }
   ],
   "source": [
    "with open('results.json', 'r') as json_file:\n",
    "    loadedDict = json.load(json_file)\n",
    "\n",
    "application_lsit =['blurring','edge Detection']\n",
    "proposedRCA_list = [0,3]\n",
    "\n",
    "for app in application_lsit:\n",
    "    Data = loadedDict[app]\n",
    "    print(f'exact Semi Parallel Bit {0} Energy/pixel (nJ): {round((Data[\"exact Semi Parallel [10]\"][\"energy_con\"][0]/10**3)/(256*256),2)} Total Energy (mJ): {round(Data[\"exact Semi Parallel [10]\"][\"energy_con\"][0]/10**9,2)} Steps/pixel: {round(Data[\"exact Semi Parallel [10]\"][\"steps\"][0]/(256*256),2)} Total steps (million): {round(Data[\"exact Semi Parallel [10]\"][\"steps\"][0]/10**6,2)}')\n",
    "    for adder in proposedRCA_list:\n",
    "        print(f'Adder Bit {adder+1} Energy/pixel (nJ): {round((Data[\"own Aprox [11]\"][\"energy_con\"][adder]/10**3)/(256*256),2)} Total Energy (mJ): {round(Data[\"own Aprox [11]\"][\"energy_con\"][adder]/10**9,2)} Steps/pixel: {round(Data[\"own Aprox [11]\"][\"steps\"][adder]/(256*256),2)} Total steps (million): {round(Data[\"own Aprox [11]\"][\"steps\"][adder]/10**6,2)}')"
   ]
  }
 ],
 "metadata": {
  "kernelspec": {
   "display_name": ".venv",
   "language": "python",
   "name": "python3"
  },
  "language_info": {
   "codemirror_mode": {
    "name": "ipython",
    "version": 3
   },
   "file_extension": ".py",
   "mimetype": "text/x-python",
   "name": "python",
   "nbconvert_exporter": "python",
   "pygments_lexer": "ipython3",
   "version": "3.10.12"
  }
 },
 "nbformat": 4,
 "nbformat_minor": 2
}
